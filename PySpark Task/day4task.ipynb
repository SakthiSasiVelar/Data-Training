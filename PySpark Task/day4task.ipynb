{
 "cells": [
  {
   "cell_type": "code",
   "execution_count": 27,
   "id": "21de0247-fd73-47d1-b75f-988ce3facc45",
   "metadata": {},
   "outputs": [
    {
     "name": "stdout",
     "output_type": "stream",
     "text": [
      "Requirement already satisfied: pyspark in c:\\users\\vc\\appdata\\local\\programs\\python\\python312\\lib\\site-packages (3.5.2)\n",
      "Requirement already satisfied: py4j==0.10.9.7 in c:\\users\\vc\\appdata\\local\\programs\\python\\python312\\lib\\site-packages (from pyspark) (0.10.9.7)\n",
      "Note: you may need to restart the kernel to use updated packages.\n"
     ]
    }
   ],
   "source": [
    "pip install pyspark\n"
   ]
  },
  {
   "cell_type": "code",
   "execution_count": null,
   "id": "b88d4497-1c75-423d-8651-f4975b56a22c",
   "metadata": {},
   "outputs": [],
   "source": []
  },
  {
   "cell_type": "code",
   "execution_count": 28,
   "id": "558bb1cf-4e5d-42fb-9879-1a9d171b0d70",
   "metadata": {},
   "outputs": [],
   "source": [
    "from pyspark.sql import SparkSession\n",
    "import pyspark.sql.functions as F\n",
    "from pyspark.sql import types \n",
    "from pyspark.sql.window import Window"
   ]
  },
  {
   "cell_type": "code",
   "execution_count": null,
   "id": "fd0d43ae-2da5-49c7-98cc-0a4d04ebce16",
   "metadata": {},
   "outputs": [],
   "source": []
  },
  {
   "cell_type": "code",
   "execution_count": 29,
   "id": "2ac2f6bd-e7ef-4f34-9c00-2254ddab4573",
   "metadata": {},
   "outputs": [],
   "source": [
    "spark = SparkSession.builder.appName(\"covid\").getOrCreate()\n",
    "filepath = \"C:/Users/VC/Desktop/Data training/Day 4/complete.csv\"\n"
   ]
  },
  {
   "cell_type": "code",
   "execution_count": 30,
   "id": "4340a48f-dbaa-4dfd-977d-2ce41332ceb4",
   "metadata": {},
   "outputs": [],
   "source": [
    "df_csv = spark.read.format(\"csv\") \\\n",
    "            .option(\"header\", True) \\\n",
    "            .option(\"multiLine\", True) \\\n",
    "            .option(\"ignoreLeadingWhiteSpace\",True) \\\n",
    "            .option(\"ignoreTrailingWhiteSpace\",True) \\\n",
    "            .option(\"escape\", \"\\\\\") \\\n",
    "            .option(\"quote\", \"\\\"\") \\\n",
    "            .load(filepath)"
   ]
  },
  {
   "cell_type": "code",
   "execution_count": 31,
   "id": "bb54389b-24b8-4590-878e-a9bb8da59855",
   "metadata": {},
   "outputs": [
    {
     "name": "stdout",
     "output_type": "stream",
     "text": [
      "root\n",
      " |-- Date: string (nullable = true)\n",
      " |-- Name of State / UT: string (nullable = true)\n",
      " |-- Latitude: string (nullable = true)\n",
      " |-- Longitude: string (nullable = true)\n",
      " |-- Total Confirmed cases: string (nullable = true)\n",
      " |-- Death: string (nullable = true)\n",
      " |-- Cured/Discharged/Migrated: string (nullable = true)\n",
      " |-- New cases: string (nullable = true)\n",
      " |-- New deaths: string (nullable = true)\n",
      " |-- New recovered: string (nullable = true)\n",
      "\n"
     ]
    }
   ],
   "source": [
    "df_csv.printSchema()"
   ]
  },
  {
   "cell_type": "code",
   "execution_count": 32,
   "id": "5204e4e5-b6d3-4786-b8d8-acf5ccb9d6fb",
   "metadata": {},
   "outputs": [
    {
     "name": "stdout",
     "output_type": "stream",
     "text": [
      "root\n",
      " |-- Date: string (nullable = true)\n",
      " |-- Name of State / UT: string (nullable = true)\n",
      " |-- Latitude: string (nullable = true)\n",
      " |-- Longitude: string (nullable = true)\n",
      " |-- Total Confirmed cases: string (nullable = true)\n",
      " |-- Death: string (nullable = true)\n",
      " |-- Cured/Discharged/Migrated: string (nullable = true)\n",
      " |-- New cases: string (nullable = true)\n",
      " |-- New deaths: string (nullable = true)\n",
      " |-- New recovered: string (nullable = true)\n",
      " |-- total_case: long (nullable = true)\n",
      " |-- total_newly_recovered: long (nullable = true)\n",
      " |-- state: string (nullable = true)\n",
      " |-- death_Case: long (nullable = true)\n",
      "\n"
     ]
    }
   ],
   "source": [
    "df_csv = df_csv.withColumn(\"total_case\", df_csv[\"Total Confirmed cases\"].cast(types.LongType()))\n",
    "df_csv = df_csv.withColumn(\"total_newly_recovered\", df_csv[\"New recovered\"].cast(types.LongType()))\n",
    "df_csv = df_csv.withColumn(\"state\", df_csv[\"Name of State / UT\"].cast(types.StringType()))\n",
    "df_csv = df_csv.withColumn(\"death_Case\", df_csv[\"Death\"].cast(types.LongType()))\n",
    "df_csv.printSchema()"
   ]
  },
  {
   "cell_type": "code",
   "execution_count": 33,
   "id": "14b5e8e5-1da1-4d2c-9019-81b35f2b361c",
   "metadata": {},
   "outputs": [],
   "source": [
    "# The day had more number of covid cases."
   ]
  },
  {
   "cell_type": "code",
   "execution_count": 34,
   "id": "101ab088-01b7-498b-9a04-dea6c3bca4a4",
   "metadata": {},
   "outputs": [
    {
     "name": "stdout",
     "output_type": "stream",
     "text": [
      "+----------+--------------+\n",
      "|      Date|sum_total_case|\n",
      "+----------+--------------+\n",
      "|2020-08-06|       1964536|\n",
      "+----------+--------------+\n",
      "\n"
     ]
    }
   ],
   "source": [
    "output_df_1 = df_csv.groupBy(\"Date\").agg(F.sum(\"total_case\").alias(\"sum_total_case\"))\n",
    "window_spec = Window.orderBy(F.col(\"sum_total_case\").desc())\n",
    "output_df_1 = output_df_1.withColumn(\"recency\", F.row_number().over(window_spec)).filter(F.col('recency') == 1).drop('recency')\n",
    "output_df_1.show()"
   ]
  },
  {
   "cell_type": "code",
   "execution_count": 35,
   "id": "695ab658-e905-429c-bf8d-c40dac77c842",
   "metadata": {},
   "outputs": [],
   "source": [
    "# The state has the second-largest number of covid cases."
   ]
  },
  {
   "cell_type": "code",
   "execution_count": 36,
   "id": "3abb0a96-2af6-40ba-bd6b-2ebd6f51d5c0",
   "metadata": {},
   "outputs": [
    {
     "name": "stdout",
     "output_type": "stream",
     "text": [
      "+----------+--------------+\n",
      "|     state|sum_total_case|\n",
      "+----------+--------------+\n",
      "|Tamil Nadu|       7847083|\n",
      "+----------+--------------+\n",
      "\n"
     ]
    }
   ],
   "source": [
    "output_df_2 = df_csv.groupBy(\"state\").agg(F.sum(\"total_case\").alias(\"sum_total_case\"))\n",
    "window_spec = Window.orderBy(F.col(\"sum_total_case\").desc())\n",
    "output_df_2 = output_df_2.withColumn(\"recency\", F.row_number().over(window_spec)).filter(F.col('recency') == 2).drop('recency')\n",
    "output_df_2.show()"
   ]
  },
  {
   "cell_type": "code",
   "execution_count": 37,
   "id": "a33530e1-453d-451b-aebf-48128cc4af2d",
   "metadata": {},
   "outputs": [],
   "source": [
    "# Which Union Territory has the least number of death."
   ]
  },
  {
   "cell_type": "code",
   "execution_count": 38,
   "id": "5ad0bfca-9b8b-4d23-87dd-3a2e07ae21c7",
   "metadata": {},
   "outputs": [
    {
     "name": "stdout",
     "output_type": "stream",
     "text": [
      "+------------------------------------+---------------+\n",
      "|state                               |sum_total_death|\n",
      "+------------------------------------+---------------+\n",
      "|Union Territory of Jammu and Kashmir|0              |\n",
      "+------------------------------------+---------------+\n",
      "\n"
     ]
    }
   ],
   "source": [
    "output_df_3 = df_csv.where(F.col('state').like(\"Union Territory%\"))\n",
    "output_df_3 = output_df_3.groupBy(\"state\").agg(F.sum(\"death_Case\").alias(\"sum_total_death\"))\n",
    "window_spec = Window.orderBy(F.col(\"sum_total_death\"))\n",
    "output_df_3 = output_df_3.withColumn(\"recency\", F.row_number().over(window_spec)).filter(F.col('recency') == 1).drop('recency')\n",
    "output_df_3.show(truncate=False)"
   ]
  },
  {
   "cell_type": "code",
   "execution_count": 39,
   "id": "aa4d8897-c123-43f2-b57a-7efc88837784",
   "metadata": {},
   "outputs": [],
   "source": [
    "# The state has the Lowest Death to Total Confirmed cases ratio."
   ]
  },
  {
   "cell_type": "code",
   "execution_count": 40,
   "id": "9fe9e616-31b0-4665-8cfa-45375da1c3ce",
   "metadata": {},
   "outputs": [
    {
     "name": "stdout",
     "output_type": "stream",
     "text": [
      "+-------+---------+\n",
      "|state  |avg_ratio|\n",
      "+-------+---------+\n",
      "|Mizoram|0.0      |\n",
      "+-------+---------+\n",
      "\n"
     ]
    }
   ],
   "source": [
    "output_df_4 = df_csv.withColumn(\"ratio\", F.col(\"death_Case\")/F.col(\"total_case\"))\n",
    "output_df_4 = output_df_4.groupBy(\"state\").agg(F.avg(\"ratio\").alias(\"avg_ratio\"))\n",
    "window_spec = Window.orderBy(F.col(\"avg_ratio\"))\n",
    "output_df_4 = output_df_4.withColumn(\"recency\", F.row_number().over(window_spec)).filter(F.col('recency') == 1).drop('recency')\n",
    "output_df_4.show(truncate=False)"
   ]
  },
  {
   "cell_type": "code",
   "execution_count": 41,
   "id": "6045a74e-bbd8-4927-9317-83974235b6bd",
   "metadata": {},
   "outputs": [],
   "source": [
    "# Convert all state names to lowercase."
   ]
  },
  {
   "cell_type": "code",
   "execution_count": 42,
   "id": "077bac7a-1483-4ddd-9b6a-f63a7d7ad065",
   "metadata": {},
   "outputs": [
    {
     "name": "stdout",
     "output_type": "stream",
     "text": [
      "+--------------------+\n",
      "|         state_lower|\n",
      "+--------------------+\n",
      "|               delhi|\n",
      "|         maharashtra|\n",
      "|           meghalaya|\n",
      "|              odisha|\n",
      "|             haryana|\n",
      "|         west bengal|\n",
      "|                 goa|\n",
      "|              punjab|\n",
      "|   jammu and kashmir|\n",
      "|dadra and nagar h...|\n",
      "|           karnataka|\n",
      "|      andhra pradesh|\n",
      "|           telangana|\n",
      "|            nagaland|\n",
      "|               bihar|\n",
      "|      madhya pradesh|\n",
      "|           jharkhand|\n",
      "|               assam|\n",
      "|              kerala|\n",
      "|          tamil nadu|\n",
      "+--------------------+\n",
      "only showing top 20 rows\n",
      "\n"
     ]
    }
   ],
   "source": [
    "output_df_5 = df_csv.withColumn('state_lower', F.lower(F.col(\"state\")))\n",
    "output_df_5.select(\"state_lower\").distinct().show()"
   ]
  },
  {
   "cell_type": "code",
   "execution_count": 43,
   "id": "0c884ca2-683a-4731-8220-036ba0aa65b9",
   "metadata": {},
   "outputs": [],
   "source": [
    "# Find which month the Newer recovered cases."
   ]
  },
  {
   "cell_type": "code",
   "execution_count": 4,
   "id": "9bfcbf2c-f31a-4bff-94f1-df9807eaaede",
   "metadata": {},
   "outputs": [
    {
     "ename": "NameError",
     "evalue": "name 'f' is not defined",
     "output_type": "error",
     "traceback": [
      "\u001b[1;31m---------------------------------------------------------------------------\u001b[0m",
      "\u001b[1;31mNameError\u001b[0m                                 Traceback (most recent call last)",
      "Cell \u001b[1;32mIn[4], line 12\u001b[0m\n\u001b[0;32m      9\u001b[0m     date \u001b[38;5;241m=\u001b[39m datetime\u001b[38;5;241m.\u001b[39mstrptime(date, \u001b[38;5;124m\"\u001b[39m\u001b[38;5;124m%\u001b[39m\u001b[38;5;124mY-\u001b[39m\u001b[38;5;124m%\u001b[39m\u001b[38;5;124mm-\u001b[39m\u001b[38;5;132;01m%d\u001b[39;00m\u001b[38;5;124m\"\u001b[39m)\n\u001b[0;32m     10\u001b[0m     \u001b[38;5;28;01mreturn\u001b[39;00m date\u001b[38;5;241m.\u001b[39mmonth\n\u001b[1;32m---> 12\u001b[0m get_month_udf \u001b[38;5;241m=\u001b[39m \u001b[43mf\u001b[49m\u001b[38;5;241m.\u001b[39mudf(\u001b[38;5;28;01mlambda\u001b[39;00m a : get_month(a), types\u001b[38;5;241m.\u001b[39mStringType())\n\u001b[0;32m     13\u001b[0m get_month_name_udf \u001b[38;5;241m=\u001b[39m f\u001b[38;5;241m.\u001b[39mudf(\u001b[38;5;28;01mlambda\u001b[39;00m a : get_month_name(a), types\u001b[38;5;241m.\u001b[39mStringType())\n\u001b[0;32m     14\u001b[0m output_df_6 \u001b[38;5;241m=\u001b[39m df_csv\u001b[38;5;241m.\u001b[39mwithColumn(\u001b[38;5;124m\"\u001b[39m\u001b[38;5;124mmonth\u001b[39m\u001b[38;5;124m\"\u001b[39m, get_month_udf(F\u001b[38;5;241m.\u001b[39mcol(\u001b[38;5;124m\"\u001b[39m\u001b[38;5;124mdate\u001b[39m\u001b[38;5;124m\"\u001b[39m)))\n",
      "\u001b[1;31mNameError\u001b[0m: name 'f' is not defined"
     ]
    }
   ],
   "source": [
    "import calendar\n",
    "from datetime import datetime\n",
    "\n",
    "def get_month_name(month_number):\n",
    "    return calendar.month_name[int(month_number)]\n",
    "\n",
    "def get_month(date):\n",
    "    print(date)\n",
    "    date = datetime.strptime(date, \"%Y-%m-%d\")\n",
    "    return date.month\n",
    "\n",
    "get_month_udf = f.udf(lambda a : get_month(a), types.StringType())\n",
    "get_month_name_udf = f.udf(lambda a : get_month_name(a), types.StringType())\n",
    "output_df_6 = df_csv.withColumn(\"month\", get_month_udf(F.col(\"date\")))\n",
    "output_df_6 = output_df_6.groupBy(\"month\").agg(F.sum(\"total_newly_recovered\").alias(\"sum_newly_recovered\"))\n",
    "window_spec = Window.orderBy(F.col(\"sum_newly_recovered\").desc())\n",
    "output_df_6 = output_df_6.withColumn(\"recency\", F.row_number().over(window_spec)).filter(F.col('recency') == 1).drop('recency')\n",
    "output_df_6 = output_df_6.withColumn(\"month\", get_month_name_udf(F.col(\"month\")))\n",
    "output_df_6.show()"
   ]
  },
  {
   "cell_type": "code",
   "execution_count": null,
   "id": "cccb942e-9e1d-4f9f-a70d-7a02514e653c",
   "metadata": {},
   "outputs": [],
   "source": []
  }
 ],
 "metadata": {
  "kernelspec": {
   "display_name": "Python 3 (ipykernel)",
   "language": "python",
   "name": "python3"
  },
  "language_info": {
   "codemirror_mode": {
    "name": "ipython",
    "version": 3
   },
   "file_extension": ".py",
   "mimetype": "text/x-python",
   "name": "python",
   "nbconvert_exporter": "python",
   "pygments_lexer": "ipython3",
   "version": "3.12.5"
  }
 },
 "nbformat": 4,
 "nbformat_minor": 5
}
